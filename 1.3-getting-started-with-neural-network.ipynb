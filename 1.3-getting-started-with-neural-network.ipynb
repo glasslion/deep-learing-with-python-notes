{
 "cells": [
  {
   "cell_type": "markdown",
   "metadata": {},
   "source": [
    "# The IMDB dataset"
   ]
  },
  {
   "cell_type": "code",
   "execution_count": 1,
   "metadata": {},
   "outputs": [
    {
     "name": "stderr",
     "output_type": "stream",
     "text": [
      "/home/leo/anaconda3/lib/python3.6/site-packages/h5py/__init__.py:34: FutureWarning: Conversion of the second argument of issubdtype from `float` to `np.floating` is deprecated. In future, it will be treated as `np.float64 == np.dtype(float).type`.\n",
      "  from ._conv import register_converters as _register_converters\n",
      "Using TensorFlow backend.\n"
     ]
    }
   ],
   "source": [
    "%matplotlib inline\n",
    "import matplotlib.pyplot as plt \n",
    "\n",
    "import numpy as np\n",
    "\n",
    "from keras.datasets import imdb\n",
    "from keras import models, layers"
   ]
  },
  {
   "cell_type": "code",
   "execution_count": 2,
   "metadata": {},
   "outputs": [],
   "source": [
    "(train_data,train_labels), (test_data, test_labels) = imdb.load_data(num_words=10000)"
   ]
  },
  {
   "cell_type": "code",
   "execution_count": 3,
   "metadata": {},
   "outputs": [],
   "source": [
    "def vectorize_sequences(sequences, dimension=10000):\n",
    "    results = np.zeros((len(sequences), dimension))\n",
    "    for i, sequence in enumerate(sequences):\n",
    "        results[i, sequence] = 1\n",
    "    return results"
   ]
  },
  {
   "cell_type": "code",
   "execution_count": 4,
   "metadata": {
    "collapsed": true
   },
   "outputs": [],
   "source": [
    "x_train = vectorize_sequences(train_data)\n",
    "x_test = vectorize_sequences(test_data)"
   ]
  },
  {
   "cell_type": "code",
   "execution_count": 5,
   "metadata": {
    "collapsed": true
   },
   "outputs": [],
   "source": [
    "y_train = np.asarray(train_labels).astype('float32')\n",
    "y_test = np.asarray(test_labels).astype('float32')"
   ]
  },
  {
   "cell_type": "markdown",
   "metadata": {},
   "source": [
    "# Build model"
   ]
  },
  {
   "cell_type": "code",
   "execution_count": 6,
   "metadata": {},
   "outputs": [],
   "source": [
    "model = models.Sequential()\n",
    "model.add(layers.Dense(16, activation='relu', input_shape=(10000,)))\n",
    "model.add(layers.Dense(16, activation='relu'))\n",
    "model.add(layers.Dense(1, activation='sigmoid'))\n",
    "\n",
    "model.compile(\n",
    "    optimizer='rmsprop',\n",
    "    loss='binary_crossentropy',\n",
    "    metrics=['acc']\n",
    ")"
   ]
  },
  {
   "cell_type": "code",
   "execution_count": 7,
   "metadata": {},
   "outputs": [
    {
     "name": "stdout",
     "output_type": "stream",
     "text": [
      "_________________________________________________________________\n",
      "Layer (type)                 Output Shape              Param #   \n",
      "=================================================================\n",
      "dense_1 (Dense)              (None, 16)                160016    \n",
      "_________________________________________________________________\n",
      "dense_2 (Dense)              (None, 16)                272       \n",
      "_________________________________________________________________\n",
      "dense_3 (Dense)              (None, 1)                 17        \n",
      "=================================================================\n",
      "Total params: 160,305\n",
      "Trainable params: 160,305\n",
      "Non-trainable params: 0\n",
      "_________________________________________________________________\n"
     ]
    }
   ],
   "source": [
    "model.summary()"
   ]
  },
  {
   "cell_type": "code",
   "execution_count": 8,
   "metadata": {},
   "outputs": [
    {
     "name": "stdout",
     "output_type": "stream",
     "text": [
      "Epoch 1/4\n",
      "25000/25000 [==============================] - 1s 47us/step - loss: 0.4498 - acc: 0.8160\n",
      "Epoch 2/4\n",
      "25000/25000 [==============================] - 1s 46us/step - loss: 0.2553 - acc: 0.9100\n",
      "Epoch 3/4\n",
      "25000/25000 [==============================] - 1s 46us/step - loss: 0.1970 - acc: 0.9299\n",
      "Epoch 4/4\n",
      "25000/25000 [==============================] - 1s 46us/step - loss: 0.1670 - acc: 0.9408\n"
     ]
    }
   ],
   "source": [
    "history = model.fit(x_train, y_train, epochs=4, batch_size=512)"
   ]
  },
  {
   "cell_type": "code",
   "execution_count": 9,
   "metadata": {},
   "outputs": [
    {
     "name": "stdout",
     "output_type": "stream",
     "text": [
      "25000/25000 [==============================] - 2s 67us/step\n"
     ]
    }
   ],
   "source": [
    "result = model.evaluate(x_test, y_test)"
   ]
  },
  {
   "cell_type": "code",
   "execution_count": 10,
   "metadata": {},
   "outputs": [
    {
     "data": {
      "text/plain": [
       "[0.29461273756027223, 0.88352]"
      ]
     },
     "execution_count": 10,
     "metadata": {},
     "output_type": "execute_result"
    }
   ],
   "source": [
    "result"
   ]
  },
  {
   "cell_type": "code",
   "execution_count": 11,
   "metadata": {},
   "outputs": [
    {
     "name": "stdout",
     "output_type": "stream",
     "text": [
      "Train on 25000 samples, validate on 25000 samples\n",
      "Epoch 1/16\n",
      "25000/25000 [==============================] - 2s 73us/step - loss: 0.1444 - acc: 0.9498 - val_loss: 0.3586 - val_acc: 0.8652\n",
      "Epoch 2/16\n",
      "25000/25000 [==============================] - 2s 74us/step - loss: 0.1289 - acc: 0.9557 - val_loss: 0.3385 - val_acc: 0.8744\n",
      "Epoch 3/16\n",
      "25000/25000 [==============================] - 2s 73us/step - loss: 0.1135 - acc: 0.9600 - val_loss: 0.3601 - val_acc: 0.8719\n",
      "Epoch 4/16\n",
      "25000/25000 [==============================] - 2s 74us/step - loss: 0.1015 - acc: 0.9647 - val_loss: 0.4023 - val_acc: 0.8654\n",
      "Epoch 5/16\n",
      "25000/25000 [==============================] - 2s 73us/step - loss: 0.0909 - acc: 0.9690 - val_loss: 0.4089 - val_acc: 0.8686\n",
      "Epoch 6/16\n",
      "25000/25000 [==============================] - 2s 73us/step - loss: 0.0825 - acc: 0.9723 - val_loss: 0.4387 - val_acc: 0.8635\n",
      "Epoch 7/16\n",
      "25000/25000 [==============================] - 2s 74us/step - loss: 0.0743 - acc: 0.9758 - val_loss: 0.5201 - val_acc: 0.8518\n",
      "Epoch 8/16\n",
      "25000/25000 [==============================] - 2s 74us/step - loss: 0.0640 - acc: 0.9793 - val_loss: 0.5048 - val_acc: 0.8574\n",
      "Epoch 9/16\n",
      "25000/25000 [==============================] - 2s 74us/step - loss: 0.0605 - acc: 0.9800 - val_loss: 0.5261 - val_acc: 0.8580\n",
      "Epoch 10/16\n",
      "25000/25000 [==============================] - 2s 73us/step - loss: 0.0517 - acc: 0.9842 - val_loss: 0.5620 - val_acc: 0.8546\n",
      "Epoch 11/16\n",
      "25000/25000 [==============================] - 2s 74us/step - loss: 0.0466 - acc: 0.9846 - val_loss: 0.6953 - val_acc: 0.8404\n",
      "Epoch 12/16\n",
      "25000/25000 [==============================] - 2s 73us/step - loss: 0.0416 - acc: 0.9873 - val_loss: 0.6371 - val_acc: 0.8524\n",
      "Epoch 13/16\n",
      "25000/25000 [==============================] - 2s 74us/step - loss: 0.0357 - acc: 0.9896 - val_loss: 0.6671 - val_acc: 0.8515\n",
      "Epoch 14/16\n",
      "25000/25000 [==============================] - 2s 73us/step - loss: 0.0295 - acc: 0.9919 - val_loss: 0.7101 - val_acc: 0.8495\n",
      "Epoch 15/16\n",
      "25000/25000 [==============================] - 2s 73us/step - loss: 0.0268 - acc: 0.9927 - val_loss: 0.8566 - val_acc: 0.8384\n",
      "Epoch 16/16\n",
      "25000/25000 [==============================] - 2s 74us/step - loss: 0.0251 - acc: 0.9924 - val_loss: 0.7795 - val_acc: 0.8496\n"
     ]
    }
   ],
   "source": [
    "# Train more epochs\n",
    "history = model.fit(x_train, y_train, epochs=16, batch_size=512, validation_data=(x_test, y_test))"
   ]
  },
  {
   "cell_type": "markdown",
   "metadata": {},
   "source": [
    "# One Hidden Dense Layer"
   ]
  },
  {
   "cell_type": "code",
   "execution_count": 12,
   "metadata": {},
   "outputs": [
    {
     "name": "stdout",
     "output_type": "stream",
     "text": [
      "Train on 25000 samples, validate on 25000 samples\n",
      "Epoch 1/16\n",
      "25000/25000 [==============================] - 2s 76us/step - loss: 0.4518 - acc: 0.8302 - val_loss: 0.3550 - val_acc: 0.8758\n",
      "Epoch 2/16\n",
      "25000/25000 [==============================] - 2s 73us/step - loss: 0.2791 - acc: 0.9066 - val_loss: 0.3025 - val_acc: 0.8842\n",
      "Epoch 3/16\n",
      "25000/25000 [==============================] - 2s 74us/step - loss: 0.2199 - acc: 0.9252 - val_loss: 0.2790 - val_acc: 0.8906\n",
      "Epoch 4/16\n",
      "25000/25000 [==============================] - 2s 73us/step - loss: 0.1875 - acc: 0.9358 - val_loss: 0.2797 - val_acc: 0.8892\n",
      "Epoch 5/16\n",
      "25000/25000 [==============================] - 2s 74us/step - loss: 0.1646 - acc: 0.9451 - val_loss: 0.2958 - val_acc: 0.8816\n",
      "Epoch 6/16\n",
      "25000/25000 [==============================] - 2s 74us/step - loss: 0.1479 - acc: 0.9496 - val_loss: 0.2942 - val_acc: 0.8831\n",
      "Epoch 7/16\n",
      "25000/25000 [==============================] - 2s 73us/step - loss: 0.1342 - acc: 0.9559 - val_loss: 0.3053 - val_acc: 0.8798\n",
      "Epoch 8/16\n",
      "25000/25000 [==============================] - 2s 73us/step - loss: 0.1226 - acc: 0.9599 - val_loss: 0.3197 - val_acc: 0.8778\n",
      "Epoch 9/16\n",
      "25000/25000 [==============================] - 2s 73us/step - loss: 0.1131 - acc: 0.9636 - val_loss: 0.3334 - val_acc: 0.8753\n",
      "Epoch 10/16\n",
      "25000/25000 [==============================] - 2s 74us/step - loss: 0.1048 - acc: 0.9658 - val_loss: 0.3630 - val_acc: 0.8689\n",
      "Epoch 11/16\n",
      "25000/25000 [==============================] - 2s 74us/step - loss: 0.0974 - acc: 0.9696 - val_loss: 0.3634 - val_acc: 0.8713\n",
      "Epoch 12/16\n",
      "25000/25000 [==============================] - 2s 74us/step - loss: 0.0901 - acc: 0.9719 - val_loss: 0.3847 - val_acc: 0.8670\n",
      "Epoch 13/16\n",
      "25000/25000 [==============================] - 2s 75us/step - loss: 0.0831 - acc: 0.9753 - val_loss: 0.3973 - val_acc: 0.8675\n",
      "Epoch 14/16\n",
      "25000/25000 [==============================] - 2s 73us/step - loss: 0.0785 - acc: 0.9764 - val_loss: 0.4185 - val_acc: 0.8648\n",
      "Epoch 15/16\n",
      "25000/25000 [==============================] - 2s 74us/step - loss: 0.0724 - acc: 0.9789 - val_loss: 0.4358 - val_acc: 0.8615\n",
      "Epoch 16/16\n",
      "25000/25000 [==============================] - 2s 74us/step - loss: 0.0677 - acc: 0.9802 - val_loss: 0.4511 - val_acc: 0.8620\n"
     ]
    },
    {
     "data": {
      "text/plain": [
       "<keras.callbacks.History at 0x7f08d4d57e80>"
      ]
     },
     "execution_count": 12,
     "metadata": {},
     "output_type": "execute_result"
    }
   ],
   "source": [
    "model = models.Sequential()\n",
    "model.add(layers.Dense(16, activation='relu', input_shape=(10000,)))\n",
    "model.add(layers.Dense(1, activation='sigmoid'))\n",
    "\n",
    "model.compile(\n",
    "    optimizer='rmsprop',\n",
    "    loss='binary_crossentropy',\n",
    "    metrics=['acc']\n",
    ")\n",
    "model.fit(x_train, y_train, epochs=16, batch_size=512, validation_data=(x_test, y_test))"
   ]
  },
  {
   "cell_type": "markdown",
   "metadata": {},
   "source": [
    "# Three Hidden Dense Layer"
   ]
  },
  {
   "cell_type": "code",
   "execution_count": 13,
   "metadata": {},
   "outputs": [
    {
     "name": "stdout",
     "output_type": "stream",
     "text": [
      "Train on 25000 samples, validate on 25000 samples\n",
      "Epoch 1/16\n",
      "25000/25000 [==============================] - 2s 77us/step - loss: 0.5448 - acc: 0.7510 - val_loss: 0.4319 - val_acc: 0.8714\n",
      "Epoch 2/16\n",
      "25000/25000 [==============================] - 2s 74us/step - loss: 0.3025 - acc: 0.9026 - val_loss: 0.3027 - val_acc: 0.8846\n",
      "Epoch 3/16\n",
      "25000/25000 [==============================] - 2s 73us/step - loss: 0.2130 - acc: 0.9260 - val_loss: 0.2954 - val_acc: 0.8849\n",
      "Epoch 4/16\n",
      "25000/25000 [==============================] - 2s 73us/step - loss: 0.1715 - acc: 0.9405 - val_loss: 0.3159 - val_acc: 0.8765\n",
      "Epoch 5/16\n",
      "25000/25000 [==============================] - 2s 74us/step - loss: 0.1458 - acc: 0.9498 - val_loss: 0.3369 - val_acc: 0.8744\n",
      "Epoch 6/16\n",
      "25000/25000 [==============================] - 2s 73us/step - loss: 0.1273 - acc: 0.9548 - val_loss: 0.3479 - val_acc: 0.8750\n",
      "Epoch 7/16\n",
      "25000/25000 [==============================] - 2s 74us/step - loss: 0.1082 - acc: 0.9643 - val_loss: 0.3730 - val_acc: 0.8725\n",
      "Epoch 8/16\n",
      "25000/25000 [==============================] - 2s 74us/step - loss: 0.0895 - acc: 0.9719 - val_loss: 0.3977 - val_acc: 0.8703\n",
      "Epoch 9/16\n",
      "25000/25000 [==============================] - 2s 74us/step - loss: 0.0786 - acc: 0.9740 - val_loss: 0.4411 - val_acc: 0.8677\n",
      "Epoch 10/16\n",
      "25000/25000 [==============================] - 2s 74us/step - loss: 0.0661 - acc: 0.9801 - val_loss: 0.4602 - val_acc: 0.8644\n",
      "Epoch 11/16\n",
      "25000/25000 [==============================] - 2s 74us/step - loss: 0.0489 - acc: 0.9863 - val_loss: 0.5586 - val_acc: 0.8444\n",
      "Epoch 12/16\n",
      "25000/25000 [==============================] - 2s 74us/step - loss: 0.0471 - acc: 0.9862 - val_loss: 0.5294 - val_acc: 0.8626\n",
      "Epoch 13/16\n",
      "25000/25000 [==============================] - 2s 74us/step - loss: 0.0358 - acc: 0.9906 - val_loss: 0.5684 - val_acc: 0.8614\n",
      "Epoch 14/16\n",
      "25000/25000 [==============================] - 2s 74us/step - loss: 0.0322 - acc: 0.9919 - val_loss: 0.6174 - val_acc: 0.8609\n",
      "Epoch 15/16\n",
      "25000/25000 [==============================] - 2s 74us/step - loss: 0.0234 - acc: 0.9951 - val_loss: 0.6576 - val_acc: 0.8610\n",
      "Epoch 16/16\n",
      "25000/25000 [==============================] - 2s 73us/step - loss: 0.0216 - acc: 0.9944 - val_loss: 0.6755 - val_acc: 0.8572\n"
     ]
    },
    {
     "data": {
      "text/plain": [
       "<keras.callbacks.History at 0x7f08dea8ee48>"
      ]
     },
     "execution_count": 13,
     "metadata": {},
     "output_type": "execute_result"
    }
   ],
   "source": [
    "model = models.Sequential()\n",
    "model.add(layers.Dense(16, activation='relu', input_shape=(10000,)))\n",
    "model.add(layers.Dense(16, activation='relu', input_shape=(10000,)))\n",
    "model.add(layers.Dense(16, activation='relu', input_shape=(10000,)))\n",
    "model.add(layers.Dense(1, activation='sigmoid'))\n",
    "\n",
    "model.compile(\n",
    "    optimizer='rmsprop',\n",
    "    loss='binary_crossentropy',\n",
    "    metrics=['acc']\n",
    ")\n",
    "model.fit(x_train, y_train, epochs=16, batch_size=512, validation_data=(x_test, y_test))"
   ]
  },
  {
   "cell_type": "markdown",
   "metadata": {},
   "source": [
    "# 32 Units Per Dense Layer"
   ]
  },
  {
   "cell_type": "code",
   "execution_count": 14,
   "metadata": {},
   "outputs": [
    {
     "name": "stdout",
     "output_type": "stream",
     "text": [
      "Train on 25000 samples, validate on 25000 samples\n",
      "Epoch 1/16\n",
      "25000/25000 [==============================] - 2s 89us/step - loss: 0.4153 - acc: 0.8340 - val_loss: 0.3231 - val_acc: 0.8747\n",
      "Epoch 2/16\n",
      "25000/25000 [==============================] - 2s 85us/step - loss: 0.2406 - acc: 0.9132 - val_loss: 0.2896 - val_acc: 0.8834\n",
      "Epoch 3/16\n",
      "25000/25000 [==============================] - 2s 85us/step - loss: 0.1894 - acc: 0.9302 - val_loss: 0.3892 - val_acc: 0.8472\n",
      "Epoch 4/16\n",
      "25000/25000 [==============================] - 2s 86us/step - loss: 0.1554 - acc: 0.9439 - val_loss: 0.3198 - val_acc: 0.8773\n",
      "Epoch 5/16\n",
      "25000/25000 [==============================] - 2s 85us/step - loss: 0.1334 - acc: 0.9510 - val_loss: 0.3326 - val_acc: 0.8758\n",
      "Epoch 6/16\n",
      "25000/25000 [==============================] - 2s 85us/step - loss: 0.1112 - acc: 0.9610 - val_loss: 0.4230 - val_acc: 0.8578\n",
      "Epoch 7/16\n",
      "25000/25000 [==============================] - 2s 86us/step - loss: 0.0907 - acc: 0.9690 - val_loss: 0.3939 - val_acc: 0.8672\n",
      "Epoch 8/16\n",
      "25000/25000 [==============================] - 2s 85us/step - loss: 0.0740 - acc: 0.9760 - val_loss: 0.4323 - val_acc: 0.8642\n",
      "Epoch 9/16\n",
      "25000/25000 [==============================] - 2s 85us/step - loss: 0.0606 - acc: 0.9807 - val_loss: 0.4706 - val_acc: 0.8608\n",
      "Epoch 10/16\n",
      "25000/25000 [==============================] - 2s 86us/step - loss: 0.0482 - acc: 0.9847 - val_loss: 0.4905 - val_acc: 0.8622\n",
      "Epoch 11/16\n",
      "25000/25000 [==============================] - 2s 85us/step - loss: 0.0334 - acc: 0.9904 - val_loss: 0.6114 - val_acc: 0.8472\n",
      "Epoch 12/16\n",
      "25000/25000 [==============================] - 2s 85us/step - loss: 0.0321 - acc: 0.9904 - val_loss: 0.5814 - val_acc: 0.8567\n",
      "Epoch 13/16\n",
      "25000/25000 [==============================] - 2s 85us/step - loss: 0.0178 - acc: 0.9955 - val_loss: 0.6286 - val_acc: 0.8557\n",
      "Epoch 14/16\n",
      "25000/25000 [==============================] - 2s 85us/step - loss: 0.0169 - acc: 0.9954 - val_loss: 0.6569 - val_acc: 0.8586\n",
      "Epoch 15/16\n",
      "25000/25000 [==============================] - 2s 85us/step - loss: 0.0155 - acc: 0.9955 - val_loss: 0.6985 - val_acc: 0.8556\n",
      "Epoch 16/16\n",
      "25000/25000 [==============================] - 2s 85us/step - loss: 0.0098 - acc: 0.9974 - val_loss: 0.7280 - val_acc: 0.8559\n"
     ]
    },
    {
     "data": {
      "text/plain": [
       "<keras.callbacks.History at 0x7f08da69ce80>"
      ]
     },
     "execution_count": 14,
     "metadata": {},
     "output_type": "execute_result"
    }
   ],
   "source": [
    "model = models.Sequential()\n",
    "model.add(layers.Dense(32, activation='relu', input_shape=(10000,)))\n",
    "model.add(layers.Dense(32, activation='relu', input_shape=(10000,)))\n",
    "model.add(layers.Dense(1, activation='sigmoid'))\n",
    "\n",
    "model.compile(\n",
    "    optimizer='rmsprop',\n",
    "    loss='binary_crossentropy',\n",
    "    metrics=['acc']\n",
    ")\n",
    "model.fit(x_train, y_train, epochs=16, batch_size=512, validation_data=(x_test, y_test))"
   ]
  },
  {
   "cell_type": "markdown",
   "metadata": {},
   "source": [
    "# 64 Units Per Dense Layer"
   ]
  },
  {
   "cell_type": "code",
   "execution_count": 15,
   "metadata": {},
   "outputs": [
    {
     "name": "stdout",
     "output_type": "stream",
     "text": [
      "Train on 25000 samples, validate on 25000 samples\n",
      "Epoch 1/16\n",
      "25000/25000 [==============================] - 3s 122us/step - loss: 0.4285 - acc: 0.7996 - val_loss: 0.3070 - val_acc: 0.8776\n",
      "Epoch 2/16\n",
      "25000/25000 [==============================] - 3s 119us/step - loss: 0.2382 - acc: 0.9093 - val_loss: 0.2812 - val_acc: 0.8878\n",
      "Epoch 3/16\n",
      "25000/25000 [==============================] - 3s 121us/step - loss: 0.1824 - acc: 0.9325 - val_loss: 0.2937 - val_acc: 0.8850\n",
      "Epoch 4/16\n",
      "25000/25000 [==============================] - 3s 120us/step - loss: 0.1390 - acc: 0.9478 - val_loss: 0.4063 - val_acc: 0.8502\n",
      "Epoch 5/16\n",
      "25000/25000 [==============================] - 3s 121us/step - loss: 0.1092 - acc: 0.9591 - val_loss: 0.3513 - val_acc: 0.8760\n",
      "Epoch 6/16\n",
      "25000/25000 [==============================] - 3s 120us/step - loss: 0.0742 - acc: 0.9750 - val_loss: 0.4050 - val_acc: 0.8726\n",
      "Epoch 7/16\n",
      "25000/25000 [==============================] - 3s 119us/step - loss: 0.0546 - acc: 0.9814 - val_loss: 0.4481 - val_acc: 0.8692\n",
      "Epoch 8/16\n",
      "25000/25000 [==============================] - 3s 120us/step - loss: 0.0398 - acc: 0.9889 - val_loss: 0.5204 - val_acc: 0.8685\n",
      "Epoch 9/16\n",
      "25000/25000 [==============================] - 3s 120us/step - loss: 0.0236 - acc: 0.9935 - val_loss: 0.5608 - val_acc: 0.8689\n",
      "Epoch 10/16\n",
      "25000/25000 [==============================] - 3s 121us/step - loss: 0.0261 - acc: 0.9928 - val_loss: 0.6038 - val_acc: 0.8678\n",
      "Epoch 11/16\n",
      "25000/25000 [==============================] - 3s 118us/step - loss: 0.0196 - acc: 0.9953 - val_loss: 0.6458 - val_acc: 0.8659\n",
      "Epoch 12/16\n",
      "25000/25000 [==============================] - 3s 121us/step - loss: 0.0024 - acc: 0.9998 - val_loss: 0.7656 - val_acc: 0.8605\n",
      "Epoch 13/16\n",
      "25000/25000 [==============================] - 3s 121us/step - loss: 0.0234 - acc: 0.9951 - val_loss: 0.7659 - val_acc: 0.8633\n",
      "Epoch 14/16\n",
      "25000/25000 [==============================] - 3s 118us/step - loss: 8.3216e-04 - acc: 0.9999 - val_loss: 0.8488 - val_acc: 0.8615\n",
      "Epoch 15/16\n",
      "25000/25000 [==============================] - 3s 120us/step - loss: 0.0192 - acc: 0.9960 - val_loss: 0.8664 - val_acc: 0.8618\n",
      "Epoch 16/16\n",
      "25000/25000 [==============================] - 3s 119us/step - loss: 2.6963e-04 - acc: 1.0000 - val_loss: 0.9301 - val_acc: 0.8617\n"
     ]
    },
    {
     "data": {
      "text/plain": [
       "<keras.callbacks.History at 0x7f08daa4c5f8>"
      ]
     },
     "execution_count": 15,
     "metadata": {},
     "output_type": "execute_result"
    }
   ],
   "source": [
    "model = models.Sequential()\n",
    "model.add(layers.Dense(64, activation='relu', input_shape=(10000,)))\n",
    "model.add(layers.Dense(64, activation='relu', input_shape=(10000,)))\n",
    "model.add(layers.Dense(1, activation='sigmoid'))\n",
    "\n",
    "model.compile(\n",
    "    optimizer='rmsprop',\n",
    "    loss='binary_crossentropy',\n",
    "    metrics=['acc']\n",
    ")\n",
    "model.fit(x_train, y_train, epochs=16, batch_size=512, validation_data=(x_test, y_test))"
   ]
  },
  {
   "cell_type": "markdown",
   "metadata": {},
   "source": [
    "# Use the mse loss function"
   ]
  },
  {
   "cell_type": "code",
   "execution_count": 16,
   "metadata": {},
   "outputs": [
    {
     "name": "stdout",
     "output_type": "stream",
     "text": [
      "Train on 25000 samples, validate on 25000 samples\n",
      "Epoch 1/16\n",
      "25000/25000 [==============================] - 2s 78us/step - loss: 0.1455 - acc: 0.8216 - val_loss: 0.1040 - val_acc: 0.8784\n",
      "Epoch 2/16\n",
      "25000/25000 [==============================] - 2s 74us/step - loss: 0.0765 - acc: 0.9126 - val_loss: 0.0868 - val_acc: 0.8882\n",
      "Epoch 3/16\n",
      "25000/25000 [==============================] - 2s 73us/step - loss: 0.0586 - acc: 0.9296 - val_loss: 0.0879 - val_acc: 0.8819\n",
      "Epoch 4/16\n",
      "25000/25000 [==============================] - 2s 74us/step - loss: 0.0480 - acc: 0.9444 - val_loss: 0.0885 - val_acc: 0.8803\n",
      "Epoch 5/16\n",
      "25000/25000 [==============================] - 2s 73us/step - loss: 0.0408 - acc: 0.9532 - val_loss: 0.0908 - val_acc: 0.8774\n",
      "Epoch 6/16\n",
      "25000/25000 [==============================] - 2s 73us/step - loss: 0.0353 - acc: 0.9605 - val_loss: 0.0995 - val_acc: 0.8683\n",
      "Epoch 7/16\n",
      "25000/25000 [==============================] - 2s 73us/step - loss: 0.0307 - acc: 0.9664 - val_loss: 0.1029 - val_acc: 0.8641\n",
      "Epoch 8/16\n",
      "25000/25000 [==============================] - 2s 73us/step - loss: 0.0271 - acc: 0.9710 - val_loss: 0.1000 - val_acc: 0.8692\n",
      "Epoch 9/16\n",
      "25000/25000 [==============================] - 2s 73us/step - loss: 0.0235 - acc: 0.9755 - val_loss: 0.1048 - val_acc: 0.8646\n",
      "Epoch 10/16\n",
      "25000/25000 [==============================] - 2s 74us/step - loss: 0.0208 - acc: 0.9790 - val_loss: 0.1062 - val_acc: 0.8636\n",
      "Epoch 11/16\n",
      "25000/25000 [==============================] - 2s 74us/step - loss: 0.0195 - acc: 0.9806 - val_loss: 0.1058 - val_acc: 0.8654\n",
      "Epoch 12/16\n",
      "25000/25000 [==============================] - 2s 73us/step - loss: 0.0166 - acc: 0.9838 - val_loss: 0.1158 - val_acc: 0.8536\n",
      "Epoch 13/16\n",
      "25000/25000 [==============================] - 2s 73us/step - loss: 0.0146 - acc: 0.9858 - val_loss: 0.1105 - val_acc: 0.8612\n",
      "Epoch 14/16\n",
      "25000/25000 [==============================] - 2s 73us/step - loss: 0.0140 - acc: 0.9867 - val_loss: 0.1122 - val_acc: 0.8606\n",
      "Epoch 15/16\n",
      "25000/25000 [==============================] - 2s 73us/step - loss: 0.0118 - acc: 0.9885 - val_loss: 0.1164 - val_acc: 0.8582\n",
      "Epoch 16/16\n",
      "25000/25000 [==============================] - 2s 73us/step - loss: 0.0112 - acc: 0.9891 - val_loss: 0.1167 - val_acc: 0.8584\n"
     ]
    },
    {
     "data": {
      "text/plain": [
       "<keras.callbacks.History at 0x7f08d6defe10>"
      ]
     },
     "execution_count": 16,
     "metadata": {},
     "output_type": "execute_result"
    }
   ],
   "source": [
    "model = models.Sequential()\n",
    "model.add(layers.Dense(16, activation='relu', input_shape=(10000,)))\n",
    "model.add(layers.Dense(16, activation='relu', input_shape=(10000,)))\n",
    "model.add(layers.Dense(1, activation='sigmoid'))\n",
    "\n",
    "model.compile(\n",
    "    optimizer='rmsprop',\n",
    "    loss='mse',\n",
    "    metrics=['acc']\n",
    ")\n",
    "model.fit(x_train, y_train, epochs=16, batch_size=512, validation_data=(x_test, y_test))"
   ]
  },
  {
   "cell_type": "markdown",
   "metadata": {},
   "source": [
    "# Use the tanh activate function"
   ]
  },
  {
   "cell_type": "code",
   "execution_count": 17,
   "metadata": {},
   "outputs": [
    {
     "name": "stdout",
     "output_type": "stream",
     "text": [
      "Train on 25000 samples, validate on 25000 samples\n",
      "Epoch 1/16\n",
      "25000/25000 [==============================] - 2s 77us/step - loss: 0.4295 - acc: 0.8276 - val_loss: 0.3170 - val_acc: 0.8823\n",
      "Epoch 2/16\n",
      "25000/25000 [==============================] - 2s 71us/step - loss: 0.2361 - acc: 0.9149 - val_loss: 0.2772 - val_acc: 0.8884\n",
      "Epoch 3/16\n",
      "25000/25000 [==============================] - 2s 72us/step - loss: 0.1779 - acc: 0.9344 - val_loss: 0.2946 - val_acc: 0.8826\n",
      "Epoch 4/16\n",
      "25000/25000 [==============================] - 2s 71us/step - loss: 0.1514 - acc: 0.9447 - val_loss: 0.3217 - val_acc: 0.8769\n",
      "Epoch 5/16\n",
      "25000/25000 [==============================] - 2s 72us/step - loss: 0.1275 - acc: 0.9546 - val_loss: 0.3515 - val_acc: 0.8716\n",
      "Epoch 6/16\n",
      "25000/25000 [==============================] - 2s 72us/step - loss: 0.1135 - acc: 0.9608 - val_loss: 0.3838 - val_acc: 0.8676\n",
      "Epoch 7/16\n",
      "25000/25000 [==============================] - 2s 72us/step - loss: 0.1030 - acc: 0.9651 - val_loss: 0.4136 - val_acc: 0.8650\n",
      "Epoch 8/16\n",
      "25000/25000 [==============================] - 2s 72us/step - loss: 0.0961 - acc: 0.9679 - val_loss: 0.4427 - val_acc: 0.8624\n",
      "Epoch 9/16\n",
      "25000/25000 [==============================] - 2s 71us/step - loss: 0.0803 - acc: 0.9752 - val_loss: 0.4730 - val_acc: 0.8587\n",
      "Epoch 10/16\n",
      "25000/25000 [==============================] - 2s 72us/step - loss: 0.0775 - acc: 0.9752 - val_loss: 0.5030 - val_acc: 0.8578\n",
      "Epoch 11/16\n",
      "25000/25000 [==============================] - 2s 71us/step - loss: 0.0650 - acc: 0.9798 - val_loss: 0.5437 - val_acc: 0.8526\n",
      "Epoch 12/16\n",
      "25000/25000 [==============================] - 2s 72us/step - loss: 0.0631 - acc: 0.9806 - val_loss: 0.5826 - val_acc: 0.8518\n",
      "Epoch 13/16\n",
      "25000/25000 [==============================] - 2s 72us/step - loss: 0.0626 - acc: 0.9800 - val_loss: 0.5978 - val_acc: 0.8496\n",
      "Epoch 14/16\n",
      "25000/25000 [==============================] - 2s 72us/step - loss: 0.0491 - acc: 0.9870 - val_loss: 0.6222 - val_acc: 0.8493\n",
      "Epoch 15/16\n",
      "25000/25000 [==============================] - 2s 72us/step - loss: 0.0525 - acc: 0.9844 - val_loss: 0.6477 - val_acc: 0.8481\n",
      "Epoch 16/16\n",
      "25000/25000 [==============================] - 2s 72us/step - loss: 0.0408 - acc: 0.9894 - val_loss: 0.6808 - val_acc: 0.8462\n"
     ]
    },
    {
     "data": {
      "text/plain": [
       "<keras.callbacks.History at 0x7f08d6bb6e48>"
      ]
     },
     "execution_count": 17,
     "metadata": {},
     "output_type": "execute_result"
    }
   ],
   "source": [
    "model = models.Sequential()\n",
    "model.add(layers.Dense(16, activation='tanh', input_shape=(10000,)))\n",
    "model.add(layers.Dense(16, activation='tanh', input_shape=(10000,)))\n",
    "model.add(layers.Dense(1, activation='sigmoid'))\n",
    "\n",
    "model.compile(\n",
    "    optimizer='rmsprop',\n",
    "    loss='binary_crossentropy',\n",
    "    metrics=['acc']\n",
    ")\n",
    "model.fit(x_train, y_train, epochs=16, batch_size=512, validation_data=(x_test, y_test))"
   ]
  },
  {
   "cell_type": "markdown",
   "metadata": {},
   "source": [
    "# More Deeper Layers"
   ]
  },
  {
   "cell_type": "code",
   "execution_count": 18,
   "metadata": {},
   "outputs": [
    {
     "name": "stdout",
     "output_type": "stream",
     "text": [
      "Train on 25000 samples, validate on 25000 samples\n",
      "Epoch 1/16\n",
      "25000/25000 [==============================] - 3s 132us/step - loss: 0.4424 - acc: 0.7982 - val_loss: 0.2894 - val_acc: 0.8847\n",
      "Epoch 2/16\n",
      "25000/25000 [==============================] - 3s 127us/step - loss: 0.2374 - acc: 0.9092 - val_loss: 0.3091 - val_acc: 0.8748\n",
      "Epoch 3/16\n",
      "25000/25000 [==============================] - 3s 126us/step - loss: 0.1804 - acc: 0.9305 - val_loss: 0.3330 - val_acc: 0.8715\n",
      "Epoch 4/16\n",
      "25000/25000 [==============================] - 3s 128us/step - loss: 0.1352 - acc: 0.9491 - val_loss: 0.3506 - val_acc: 0.8793\n",
      "Epoch 5/16\n",
      "25000/25000 [==============================] - 3s 126us/step - loss: 0.0963 - acc: 0.9661 - val_loss: 0.3412 - val_acc: 0.8654\n",
      "Epoch 6/16\n",
      "25000/25000 [==============================] - 3s 125us/step - loss: 0.0640 - acc: 0.9814 - val_loss: 0.5315 - val_acc: 0.8738\n",
      "Epoch 7/16\n",
      "25000/25000 [==============================] - 3s 132us/step - loss: 0.0442 - acc: 0.9882 - val_loss: 0.5993 - val_acc: 0.8718\n",
      "Epoch 8/16\n",
      "25000/25000 [==============================] - 3s 129us/step - loss: 0.0547 - acc: 0.9902 - val_loss: 0.6832 - val_acc: 0.8711\n",
      "Epoch 9/16\n",
      "25000/25000 [==============================] - 3s 122us/step - loss: 0.0371 - acc: 0.9918 - val_loss: 0.6726 - val_acc: 0.8702\n",
      "Epoch 10/16\n",
      "25000/25000 [==============================] - 3s 125us/step - loss: 0.0331 - acc: 0.9947 - val_loss: 1.0519 - val_acc: 0.8520\n",
      "Epoch 11/16\n",
      "25000/25000 [==============================] - 3s 125us/step - loss: 0.0028 - acc: 0.9996 - val_loss: 0.9748 - val_acc: 0.8680\n",
      "Epoch 12/16\n",
      "25000/25000 [==============================] - 3s 130us/step - loss: 0.0453 - acc: 0.9921 - val_loss: 0.9103 - val_acc: 0.8700\n",
      "Epoch 13/16\n",
      "25000/25000 [==============================] - 3s 127us/step - loss: 0.0455 - acc: 0.9937 - val_loss: 0.8770 - val_acc: 0.8689\n",
      "Epoch 14/16\n",
      "25000/25000 [==============================] - 3s 128us/step - loss: 9.1295e-04 - acc: 0.9999 - val_loss: 0.9957 - val_acc: 0.8688\n",
      "Epoch 15/16\n",
      "25000/25000 [==============================] - 3s 126us/step - loss: 0.0431 - acc: 0.9947 - val_loss: 1.0950 - val_acc: 0.8664\n",
      "Epoch 16/16\n",
      "25000/25000 [==============================] - 3s 122us/step - loss: 5.5981e-04 - acc: 0.9998 - val_loss: 1.1466 - val_acc: 0.8678\n"
     ]
    },
    {
     "data": {
      "text/plain": [
       "<keras.callbacks.History at 0x7f08d67e3e80>"
      ]
     },
     "execution_count": 18,
     "metadata": {},
     "output_type": "execute_result"
    }
   ],
   "source": [
    "model = models.Sequential()\n",
    "model.add(layers.Dense(64, activation='relu', input_shape=(10000,)))\n",
    "model.add(layers.Dense(64, activation='relu', input_shape=(10000,)))\n",
    "model.add(layers.Dense(64, activation='relu', input_shape=(10000,)))\n",
    "model.add(layers.Dense(64, activation='relu', input_shape=(10000,)))\n",
    "model.add(layers.Dense(64, activation='relu', input_shape=(10000,)))\n",
    "model.add(layers.Dense(1, activation='sigmoid'))\n",
    "\n",
    "model.compile(\n",
    "    optimizer='rmsprop',\n",
    "    loss='binary_crossentropy',\n",
    "    metrics=['acc']\n",
    ")\n",
    "model.fit(x_train, y_train, epochs=16, batch_size=512, validation_data=(x_test, y_test))"
   ]
  },
  {
   "cell_type": "markdown",
   "metadata": {},
   "source": [
    "# Add Batch Normalizaion"
   ]
  },
  {
   "cell_type": "code",
   "execution_count": 19,
   "metadata": {},
   "outputs": [
    {
     "name": "stdout",
     "output_type": "stream",
     "text": [
      "Train on 25000 samples, validate on 25000 samples\n",
      "Epoch 1/16\n",
      "25000/25000 [==============================] - 2s 99us/step - loss: 0.3558 - acc: 0.8445 - val_loss: 0.5210 - val_acc: 0.8688\n",
      "Epoch 2/16\n",
      "25000/25000 [==============================] - 2s 91us/step - loss: 0.1501 - acc: 0.9457 - val_loss: 0.4272 - val_acc: 0.8656\n",
      "Epoch 3/16\n",
      "25000/25000 [==============================] - 2s 90us/step - loss: 0.0737 - acc: 0.9774 - val_loss: 0.3767 - val_acc: 0.8528\n",
      "Epoch 4/16\n",
      "25000/25000 [==============================] - 2s 92us/step - loss: 0.0297 - acc: 0.9941 - val_loss: 0.3437 - val_acc: 0.8534\n",
      "Epoch 5/16\n",
      "25000/25000 [==============================] - 2s 92us/step - loss: 0.0113 - acc: 0.9982 - val_loss: 0.3519 - val_acc: 0.8532\n",
      "Epoch 6/16\n",
      "25000/25000 [==============================] - 2s 90us/step - loss: 0.0050 - acc: 0.9994 - val_loss: 0.3737 - val_acc: 0.8583\n",
      "Epoch 7/16\n",
      "25000/25000 [==============================] - 2s 90us/step - loss: 0.0029 - acc: 0.9995 - val_loss: 0.4769 - val_acc: 0.8504\n",
      "Epoch 8/16\n",
      "25000/25000 [==============================] - 2s 91us/step - loss: 0.0025 - acc: 0.9995 - val_loss: 0.5620 - val_acc: 0.8516\n",
      "Epoch 9/16\n",
      "25000/25000 [==============================] - 2s 92us/step - loss: 9.2367e-04 - acc: 0.9998 - val_loss: 0.6705 - val_acc: 0.8383\n",
      "Epoch 10/16\n",
      "25000/25000 [==============================] - 2s 91us/step - loss: 0.0045 - acc: 0.9988 - val_loss: 0.8199 - val_acc: 0.8288\n",
      "Epoch 11/16\n",
      "25000/25000 [==============================] - 2s 90us/step - loss: 0.0023 - acc: 0.9995 - val_loss: 0.7820 - val_acc: 0.8537\n",
      "Epoch 12/16\n",
      "25000/25000 [==============================] - 2s 92us/step - loss: 0.0018 - acc: 0.9996 - val_loss: 0.8019 - val_acc: 0.8542\n",
      "Epoch 13/16\n",
      "25000/25000 [==============================] - 2s 91us/step - loss: 0.0024 - acc: 0.9993 - val_loss: 0.8086 - val_acc: 0.8518\n",
      "Epoch 14/16\n",
      "25000/25000 [==============================] - 2s 90us/step - loss: 0.0025 - acc: 0.9992 - val_loss: 0.9449 - val_acc: 0.8451\n",
      "Epoch 15/16\n",
      "25000/25000 [==============================] - 2s 91us/step - loss: 0.0019 - acc: 0.9996 - val_loss: 0.8715 - val_acc: 0.8523\n",
      "Epoch 16/16\n",
      "25000/25000 [==============================] - 2s 91us/step - loss: 0.0017 - acc: 0.9994 - val_loss: 0.9173 - val_acc: 0.8529\n"
     ]
    },
    {
     "data": {
      "text/plain": [
       "<keras.callbacks.History at 0x7f08d6c1f160>"
      ]
     },
     "execution_count": 19,
     "metadata": {},
     "output_type": "execute_result"
    }
   ],
   "source": [
    "model = models.Sequential()\n",
    "model.add(layers.Dense(32, activation='relu', input_shape=(10000,)))\n",
    "model.add(layers.BatchNormalization())\n",
    "model.add(layers.Dense(32, activation='relu', input_shape=(10000,)))\n",
    "model.add(layers.BatchNormalization())\n",
    "model.add(layers.Dense(1, activation='sigmoid'))\n",
    "\n",
    "model.compile(\n",
    "    optimizer='rmsprop',\n",
    "    loss='binary_crossentropy',\n",
    "    metrics=['acc']\n",
    ")\n",
    "model.fit(x_train, y_train, epochs=16, batch_size=512, validation_data=(x_test, y_test))"
   ]
  },
  {
   "cell_type": "markdown",
   "metadata": {},
   "source": [
    "# Add Dropout"
   ]
  },
  {
   "cell_type": "code",
   "execution_count": 20,
   "metadata": {},
   "outputs": [
    {
     "name": "stdout",
     "output_type": "stream",
     "text": [
      "Train on 25000 samples, validate on 25000 samples\n",
      "Epoch 1/16\n",
      "25000/25000 [==============================] - 2s 96us/step - loss: 0.5146 - acc: 0.7598 - val_loss: 0.3460 - val_acc: 0.8720\n",
      "Epoch 2/16\n",
      "25000/25000 [==============================] - 2s 88us/step - loss: 0.3303 - acc: 0.8745 - val_loss: 0.2802 - val_acc: 0.8891\n",
      "Epoch 3/16\n",
      "25000/25000 [==============================] - 2s 89us/step - loss: 0.2551 - acc: 0.9087 - val_loss: 0.2740 - val_acc: 0.8888\n",
      "Epoch 4/16\n",
      "25000/25000 [==============================] - 2s 88us/step - loss: 0.2169 - acc: 0.9232 - val_loss: 0.2777 - val_acc: 0.8875\n",
      "Epoch 5/16\n",
      "25000/25000 [==============================] - 2s 90us/step - loss: 0.1841 - acc: 0.9372 - val_loss: 0.2956 - val_acc: 0.8869\n",
      "Epoch 6/16\n",
      "25000/25000 [==============================] - 2s 88us/step - loss: 0.1576 - acc: 0.9456 - val_loss: 0.3385 - val_acc: 0.8825\n",
      "Epoch 7/16\n",
      "25000/25000 [==============================] - 2s 88us/step - loss: 0.1420 - acc: 0.9518 - val_loss: 0.3579 - val_acc: 0.8794\n",
      "Epoch 8/16\n",
      "25000/25000 [==============================] - 2s 88us/step - loss: 0.1218 - acc: 0.9602 - val_loss: 0.3773 - val_acc: 0.8806\n",
      "Epoch 9/16\n",
      "25000/25000 [==============================] - 2s 88us/step - loss: 0.1068 - acc: 0.9643 - val_loss: 0.4483 - val_acc: 0.8750\n",
      "Epoch 10/16\n",
      "25000/25000 [==============================] - 2s 88us/step - loss: 0.0984 - acc: 0.9664 - val_loss: 0.4510 - val_acc: 0.8790\n",
      "Epoch 11/16\n",
      "25000/25000 [==============================] - 2s 88us/step - loss: 0.0873 - acc: 0.9722 - val_loss: 0.4981 - val_acc: 0.8798\n",
      "Epoch 12/16\n",
      "25000/25000 [==============================] - 2s 89us/step - loss: 0.0810 - acc: 0.9734 - val_loss: 0.5123 - val_acc: 0.8782\n",
      "Epoch 13/16\n",
      "25000/25000 [==============================] - 2s 88us/step - loss: 0.0780 - acc: 0.9756 - val_loss: 0.5535 - val_acc: 0.8770\n",
      "Epoch 14/16\n",
      "25000/25000 [==============================] - 2s 88us/step - loss: 0.0714 - acc: 0.9777 - val_loss: 0.5843 - val_acc: 0.8755\n",
      "Epoch 15/16\n",
      "25000/25000 [==============================] - 2s 88us/step - loss: 0.0715 - acc: 0.9786 - val_loss: 0.5856 - val_acc: 0.8727\n",
      "Epoch 16/16\n",
      "25000/25000 [==============================] - 2s 89us/step - loss: 0.0650 - acc: 0.9803 - val_loss: 0.6331 - val_acc: 0.8764\n"
     ]
    },
    {
     "data": {
      "text/plain": [
       "<keras.callbacks.History at 0x7f07d4caa3c8>"
      ]
     },
     "execution_count": 20,
     "metadata": {},
     "output_type": "execute_result"
    }
   ],
   "source": [
    "DROPOUT_RATE = 0.5\n",
    "model = models.Sequential()\n",
    "model.add(layers.Dense(32, activation='relu', input_shape=(10000,)))\n",
    "model.add(layers.Dropout(DROPOUT_RATE))\n",
    "model.add(layers.Dense(32, activation='relu', input_shape=(10000,)))\n",
    "model.add(layers.Dropout(DROPOUT_RATE))\n",
    "model.add(layers.Dense(1, activation='sigmoid'))\n",
    "\n",
    "model.compile(\n",
    "    optimizer='rmsprop',\n",
    "    loss='binary_crossentropy',\n",
    "    metrics=['acc']\n",
    ")\n",
    "model.fit(x_train, y_train, epochs=16, batch_size=512, validation_data=(x_test, y_test))"
   ]
  },
  {
   "cell_type": "markdown",
   "metadata": {},
   "source": [
    "# Enlarge Dropout"
   ]
  },
  {
   "cell_type": "code",
   "execution_count": 21,
   "metadata": {},
   "outputs": [
    {
     "name": "stdout",
     "output_type": "stream",
     "text": [
      "Train on 25000 samples, validate on 25000 samples\n",
      "Epoch 1/16\n",
      "25000/25000 [==============================] - 2s 96us/step - loss: 0.6368 - acc: 0.6249 - val_loss: 0.4943 - val_acc: 0.8538\n",
      "Epoch 2/16\n",
      "25000/25000 [==============================] - 2s 88us/step - loss: 0.4860 - acc: 0.7787 - val_loss: 0.3405 - val_acc: 0.8771\n",
      "Epoch 3/16\n",
      "25000/25000 [==============================] - 2s 88us/step - loss: 0.3914 - acc: 0.8430 - val_loss: 0.2975 - val_acc: 0.8850\n",
      "Epoch 4/16\n",
      "25000/25000 [==============================] - 2s 88us/step - loss: 0.3321 - acc: 0.8789 - val_loss: 0.2841 - val_acc: 0.8869\n",
      "Epoch 5/16\n",
      "25000/25000 [==============================] - 2s 87us/step - loss: 0.2971 - acc: 0.8943 - val_loss: 0.2801 - val_acc: 0.8883\n",
      "Epoch 6/16\n",
      "25000/25000 [==============================] - 2s 89us/step - loss: 0.2693 - acc: 0.9061 - val_loss: 0.2897 - val_acc: 0.8877\n",
      "Epoch 7/16\n",
      "25000/25000 [==============================] - 2s 89us/step - loss: 0.2559 - acc: 0.9118 - val_loss: 0.2953 - val_acc: 0.8867\n",
      "Epoch 8/16\n",
      "25000/25000 [==============================] - 2s 89us/step - loss: 0.2394 - acc: 0.9162 - val_loss: 0.3099 - val_acc: 0.8856\n",
      "Epoch 9/16\n",
      "25000/25000 [==============================] - 2s 88us/step - loss: 0.2229 - acc: 0.9228 - val_loss: 0.3232 - val_acc: 0.8831\n",
      "Epoch 10/16\n",
      "25000/25000 [==============================] - 2s 89us/step - loss: 0.2204 - acc: 0.9253 - val_loss: 0.3361 - val_acc: 0.8800\n",
      "Epoch 11/16\n",
      "25000/25000 [==============================] - 2s 88us/step - loss: 0.2093 - acc: 0.9282 - val_loss: 0.3511 - val_acc: 0.8831\n",
      "Epoch 12/16\n",
      "25000/25000 [==============================] - 2s 88us/step - loss: 0.2011 - acc: 0.9328 - val_loss: 0.3609 - val_acc: 0.8804\n",
      "Epoch 13/16\n",
      "25000/25000 [==============================] - 2s 88us/step - loss: 0.1999 - acc: 0.9336 - val_loss: 0.3773 - val_acc: 0.8788\n",
      "Epoch 14/16\n",
      "25000/25000 [==============================] - 2s 88us/step - loss: 0.1928 - acc: 0.9354 - val_loss: 0.3904 - val_acc: 0.8793\n",
      "Epoch 15/16\n",
      "25000/25000 [==============================] - 2s 88us/step - loss: 0.1877 - acc: 0.9384 - val_loss: 0.4041 - val_acc: 0.8759\n",
      "Epoch 16/16\n",
      "25000/25000 [==============================] - 2s 88us/step - loss: 0.1798 - acc: 0.9407 - val_loss: 0.4103 - val_acc: 0.8749\n"
     ]
    },
    {
     "data": {
      "text/plain": [
       "<keras.callbacks.History at 0x7f08d647a5f8>"
      ]
     },
     "execution_count": 21,
     "metadata": {},
     "output_type": "execute_result"
    }
   ],
   "source": [
    "DROPOUT_RATE = 0.7\n",
    "model = models.Sequential()\n",
    "model.add(layers.Dense(32, activation='relu', input_shape=(10000,)))\n",
    "model.add(layers.Dropout(DROPOUT_RATE))\n",
    "model.add(layers.Dense(32, activation='relu', input_shape=(10000,)))\n",
    "model.add(layers.Dropout(DROPOUT_RATE))\n",
    "model.add(layers.Dense(1, activation='sigmoid'))\n",
    "\n",
    "model.compile(\n",
    "    optimizer='rmsprop',\n",
    "    loss='binary_crossentropy',\n",
    "    metrics=['acc']\n",
    ")\n",
    "model.fit(x_train, y_train, epochs=16, batch_size=512, validation_data=(x_test, y_test))"
   ]
  },
  {
   "cell_type": "code",
   "execution_count": 22,
   "metadata": {},
   "outputs": [
    {
     "name": "stdout",
     "output_type": "stream",
     "text": [
      "Train on 25000 samples, validate on 25000 samples\n",
      "Epoch 1/32\n",
      "25000/25000 [==============================] - 8s 300us/step - loss: 0.6175 - acc: 0.7078 - val_loss: 0.4950 - val_acc: 0.8690\n",
      "Epoch 2/32\n",
      "25000/25000 [==============================] - 7s 283us/step - loss: 0.3762 - acc: 0.8421 - val_loss: 0.3948 - val_acc: 0.8812\n",
      "Epoch 3/32\n",
      "25000/25000 [==============================] - 7s 288us/step - loss: 0.2980 - acc: 0.8808 - val_loss: 0.3429 - val_acc: 0.8736\n",
      "Epoch 4/32\n",
      "25000/25000 [==============================] - 7s 288us/step - loss: 0.2591 - acc: 0.9026 - val_loss: 0.2974 - val_acc: 0.8848\n",
      "Epoch 5/32\n",
      "25000/25000 [==============================] - 7s 289us/step - loss: 0.2224 - acc: 0.9171 - val_loss: 0.2821 - val_acc: 0.8842\n",
      "Epoch 6/32\n",
      "25000/25000 [==============================] - 7s 286us/step - loss: 0.1979 - acc: 0.9287 - val_loss: 0.2805 - val_acc: 0.8844\n",
      "Epoch 7/32\n",
      "25000/25000 [==============================] - 7s 290us/step - loss: 0.1722 - acc: 0.9406 - val_loss: 0.2951 - val_acc: 0.8808\n",
      "Epoch 8/32\n",
      "25000/25000 [==============================] - 7s 290us/step - loss: 0.1554 - acc: 0.9461 - val_loss: 0.3111 - val_acc: 0.8788\n",
      "Epoch 9/32\n",
      "25000/25000 [==============================] - 7s 288us/step - loss: 0.1403 - acc: 0.9534 - val_loss: 0.3314 - val_acc: 0.8776\n",
      "Epoch 10/32\n",
      "25000/25000 [==============================] - 7s 288us/step - loss: 0.1187 - acc: 0.9612 - val_loss: 0.3475 - val_acc: 0.8768\n",
      "Epoch 11/32\n",
      "25000/25000 [==============================] - 7s 288us/step - loss: 0.1011 - acc: 0.9662 - val_loss: 0.3747 - val_acc: 0.8752\n",
      "Epoch 12/32\n",
      "25000/25000 [==============================] - 7s 289us/step - loss: 0.0962 - acc: 0.9702 - val_loss: 0.3980 - val_acc: 0.8754\n",
      "Epoch 13/32\n",
      "25000/25000 [==============================] - 7s 290us/step - loss: 0.0851 - acc: 0.9731 - val_loss: 0.4273 - val_acc: 0.8709\n",
      "Epoch 14/32\n",
      "25000/25000 [==============================] - 7s 287us/step - loss: 0.0764 - acc: 0.9748 - val_loss: 0.4382 - val_acc: 0.8761\n",
      "Epoch 15/32\n",
      "25000/25000 [==============================] - 7s 289us/step - loss: 0.0772 - acc: 0.9757 - val_loss: 0.4418 - val_acc: 0.8770\n",
      "Epoch 16/32\n",
      "25000/25000 [==============================] - 7s 288us/step - loss: 0.0666 - acc: 0.9794 - val_loss: 0.4689 - val_acc: 0.8706\n",
      "Epoch 17/32\n",
      "25000/25000 [==============================] - 7s 289us/step - loss: 0.0692 - acc: 0.9780 - val_loss: 0.4842 - val_acc: 0.8763\n",
      "Epoch 18/32\n",
      "25000/25000 [==============================] - 7s 285us/step - loss: 0.0654 - acc: 0.9792 - val_loss: 0.4903 - val_acc: 0.8752\n",
      "Epoch 19/32\n",
      "25000/25000 [==============================] - 7s 285us/step - loss: 0.0544 - acc: 0.9832 - val_loss: 0.5081 - val_acc: 0.8725\n",
      "Epoch 20/32\n",
      "25000/25000 [==============================] - 7s 283us/step - loss: 0.0549 - acc: 0.9820 - val_loss: 0.5061 - val_acc: 0.8767\n",
      "Epoch 21/32\n",
      "25000/25000 [==============================] - 7s 288us/step - loss: 0.0536 - acc: 0.9834 - val_loss: 0.5934 - val_acc: 0.8637\n",
      "Epoch 22/32\n",
      "25000/25000 [==============================] - 7s 289us/step - loss: 0.0544 - acc: 0.9825 - val_loss: 0.5326 - val_acc: 0.8730\n",
      "Epoch 23/32\n",
      "25000/25000 [==============================] - 7s 288us/step - loss: 0.0543 - acc: 0.9824 - val_loss: 0.5689 - val_acc: 0.8692\n",
      "Epoch 24/32\n",
      "25000/25000 [==============================] - 7s 290us/step - loss: 0.0500 - acc: 0.9845 - val_loss: 0.5569 - val_acc: 0.8746\n",
      "Epoch 25/32\n",
      "25000/25000 [==============================] - 7s 286us/step - loss: 0.0463 - acc: 0.9843 - val_loss: 0.5427 - val_acc: 0.8743\n",
      "Epoch 26/32\n",
      "25000/25000 [==============================] - 7s 286us/step - loss: 0.0455 - acc: 0.9854 - val_loss: 0.5758 - val_acc: 0.8750\n",
      "Epoch 27/32\n",
      "25000/25000 [==============================] - 7s 289us/step - loss: 0.0469 - acc: 0.9848 - val_loss: 0.5782 - val_acc: 0.8745\n",
      "Epoch 28/32\n",
      "25000/25000 [==============================] - 7s 290us/step - loss: 0.0484 - acc: 0.9854 - val_loss: 0.5877 - val_acc: 0.8743\n",
      "Epoch 29/32\n",
      "25000/25000 [==============================] - 7s 291us/step - loss: 0.0425 - acc: 0.9851 - val_loss: 0.5783 - val_acc: 0.8759\n",
      "Epoch 30/32\n",
      "25000/25000 [==============================] - 7s 289us/step - loss: 0.0467 - acc: 0.9845 - val_loss: 0.5746 - val_acc: 0.8768\n",
      "Epoch 31/32\n",
      "25000/25000 [==============================] - 7s 287us/step - loss: 0.0420 - acc: 0.9861 - val_loss: 0.5814 - val_acc: 0.8754\n",
      "Epoch 32/32\n",
      "25000/25000 [==============================] - 7s 285us/step - loss: 0.0440 - acc: 0.9869 - val_loss: 0.5960 - val_acc: 0.8766\n"
     ]
    },
    {
     "data": {
      "text/plain": [
       "<keras.callbacks.History at 0x7f07d4d0f748>"
      ]
     },
     "execution_count": 22,
     "metadata": {},
     "output_type": "execute_result"
    }
   ],
   "source": [
    "DROPOUT_RATE = 0.7\n",
    "model = models.Sequential()\n",
    "model.add(layers.Dense(256, activation='relu', input_shape=(10000,)))\n",
    "model.add(layers.BatchNormalization())\n",
    "model.add(layers.Dropout(DROPOUT_RATE))\n",
    "model.add(layers.Dense(16, activation='relu', input_shape=(10000,)))\n",
    "model.add(layers.BatchNormalization())\n",
    "model.add(layers.Dropout(DROPOUT_RATE))\n",
    "model.add(layers.Dense(1, activation='sigmoid'))\n",
    "\n",
    "model.compile(\n",
    "    optimizer='rmsprop',\n",
    "    loss='binary_crossentropy',\n",
    "    metrics=['acc']\n",
    ")\n",
    "model.fit(x_train, y_train, epochs=32, batch_size=512, validation_data=(x_test, y_test))"
   ]
  }
 ],
 "metadata": {
  "kernelspec": {
   "display_name": "Python 3",
   "language": "python",
   "name": "python3"
  },
  "language_info": {
   "codemirror_mode": {
    "name": "ipython",
    "version": 3
   },
   "file_extension": ".py",
   "mimetype": "text/x-python",
   "name": "python",
   "nbconvert_exporter": "python",
   "pygments_lexer": "ipython3",
   "version": "3.6.1"
  }
 },
 "nbformat": 4,
 "nbformat_minor": 2
}
